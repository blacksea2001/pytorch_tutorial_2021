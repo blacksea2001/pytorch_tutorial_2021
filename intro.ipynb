{
 "metadata": {
  "language_info": {
   "codemirror_mode": {
    "name": "ipython",
    "version": 3
   },
   "file_extension": ".py",
   "mimetype": "text/x-python",
   "name": "python",
   "nbconvert_exporter": "python",
   "pygments_lexer": "ipython3",
   "version": 3
  },
  "orig_nbformat": 2
 },
 "nbformat": 4,
 "nbformat_minor": 2,
 "cells": [
  {
   "source": [
    "# 簡介\n",
    "\n",
    "* PyTorch是一個基於Torch的Python開源機器學習庫，主要由Facebookd的人工智能小組開發，不僅能夠實現強大的GPU加速，同時還支持動態神經網絡，這一點是現在很多主流框架如TensorFlow都不支持的\n",
    "\n",
    "* TensorFlow和Caffe都是命令式的編程語言，而且是靜態的，首先必須構建一個神經網絡，然後一次又一次使用相同的結構，如果想要改變網絡的結構，就必須從頭開始。但是對於PyTorch，通過反向求導技術，可以讓你零延遲地任意改變神經網絡的行為，而且其實現速度快。正是這一靈活性是PyTorch對比TensorFlow的最大優勢，同時PyTorch的代碼對比TensorFlow而言，更加簡潔直觀，底層代碼也更容易看懂\n",
    "\n",
    "* 除了Facebook之外，Twitter、GMU和Salesforce等機構都採用了PyTorch\n",
    "\n",
    "----\n",
    "\n",
    "* 優點\n",
    "    1. 取代Numpy，可利用GPU加速的張量計算\n",
    "    2. 包含自動求導系統的深度神經網絡\n",
    "\n",
    "* 缺點\n",
    "    1. 還不支持快速傅里葉、沿維翻轉張量和檢查無窮與非數值張量\n",
    "    2. 針對移動端、嵌入式部署以及高性能服務器端的部署其性能表現有待提升 -> 有改善\n",
    "    3. 框架較新，使得他的社區沒有那麼強大，在文檔方面其C庫大多數沒有文檔"
   ],
   "cell_type": "markdown",
   "metadata": {}
  },
  {
   "source": [
    "# 安裝PyTorch & torchvision\n",
    "\n",
    "[https://pytorch.org/get-started/locally/]"
   ],
   "cell_type": "markdown",
   "metadata": {}
  },
  {
   "cell_type": "code",
   "execution_count": null,
   "metadata": {},
   "outputs": [],
   "source": []
  }
 ]
}